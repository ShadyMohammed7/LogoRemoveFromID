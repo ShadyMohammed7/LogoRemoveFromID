{
  "nbformat": 4,
  "nbformat_minor": 0,
  "metadata": {
    "colab": {
      "provenance": []
    },
    "kernelspec": {
      "name": "python3",
      "display_name": "Python 3"
    },
    "language_info": {
      "name": "python"
    }
  },
  "cells": [
    {
      "cell_type": "code",
      "execution_count": null,
      "metadata": {
        "id": "aIonRAPmjWHs"
      },
      "outputs": [],
      "source": [
        "%pip install ultralytics\n",
        "import ultralytics\n",
        "ultralytics.checks()"
      ]
    },
    {
      "cell_type": "code",
      "source": [
        "!pip install roboflow\n",
        "\n",
        "from roboflow import Roboflow\n",
        "rf = Roboflow(api_key=\"PdjFt8VxxSsDZHjRbwa6\")\n",
        "project = rf.workspace(\"logos-onsdi\").project(\"ids-9j84w\")\n",
        "version = project.version(4)\n",
        "dataset = version.download(\"yolov8\")"
      ],
      "metadata": {
        "id": "7H85lMuOjlzd"
      },
      "execution_count": null,
      "outputs": []
    },
    {
      "cell_type": "code",
      "source": [
        "# !yolo train model=yolov8n.pt data=/content/ids-4/data.yaml epochs=30 imgsz=640"
      ],
      "metadata": {
        "id": "h5wJtzX3jlwp"
      },
      "execution_count": null,
      "outputs": []
    },
    {
      "cell_type": "code",
      "source": [
        "!yolo task=detect mode=predict model= 'replace with model weights path' conf=0.25 source='replace with test image path' save=True"
      ],
      "metadata": {
        "id": "ziUcfLGkjlt2"
      },
      "execution_count": null,
      "outputs": []
    },
    {
      "cell_type": "code",
      "source": [],
      "metadata": {
        "id": "pjijtEamjlrp"
      },
      "execution_count": null,
      "outputs": []
    },
    {
      "cell_type": "code",
      "source": [],
      "metadata": {
        "id": "sqYYDgznjlpR"
      },
      "execution_count": null,
      "outputs": []
    }
  ]
}