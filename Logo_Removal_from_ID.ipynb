{
  "nbformat": 4,
  "nbformat_minor": 0,
  "metadata": {
    "colab": {
      "provenance": []
    },
    "kernelspec": {
      "name": "python3",
      "display_name": "Python 3"
    },
    "language_info": {
      "name": "python"
    }
  },
  "cells": [
    {
      "cell_type": "markdown",
      "source": [
        "###This Project aims to detect a certain logo in an ID and remove it. We explored various approaches like YOLO v8, semantic segmentation and finally SIFT. We introduce our solution using SIFT here, followed by inpainting to remove background.\n",
        "\n",
        "###Credits go to my colleague in the track Salma Mahran for pointing me in the SIFT direction."
      ],
      "metadata": {
        "id": "iVU67sQZxJPk"
      }
    },
    {
      "cell_type": "markdown",
      "source": [
        "Since we need to output a function, we organized our way like this. With Process_image as our main funcion, it takes 3 arguements which are the paths of logo, input and output.\n",
        "\n",
        "While we could have made a function with 2 arguments only as instructed, we trust that adding the location of the logo as a variable will help make the function robust and agile to many label - image detections in the future. Otherwise, we suggest giving it a default value at function creation to behave as a 2 argument function.\n",
        "\n",
        "Moreover, the function handles cases where any of the input paths is invalid or does not exist.\n",
        "\n",
        "The function also takes a single image or a folder of images as an input to process bulk images in one execution and save time and effort.\n",
        "\n",
        "We made sure that the function only saves the images where the logo has been detected, output an accuracy score and print the names of images where the label was not detected.\n"
      ],
      "metadata": {
        "id": "5UNTvVi6zFp3"
      }
    },
    {
      "cell_type": "markdown",
      "source": [
        "First we install dependencies"
      ],
      "metadata": {
        "id": "JYF4xPucyvkN"
      }
    },
    {
      "cell_type": "code",
      "source": [
        "# #Library installation commands\n",
        "\n",
        "# !pip install opencv-python\n",
        "# !pip install numpy"
      ],
      "metadata": {
        "id": "Q4fLhopwxH1k"
      },
      "execution_count": 69,
      "outputs": []
    },
    {
      "cell_type": "code",
      "source": [
        "import cv2\n",
        "import numpy as np\n",
        "import os"
      ],
      "metadata": {
        "id": "7hjdx4LxNFL-"
      },
      "execution_count": 70,
      "outputs": []
    },
    {
      "cell_type": "markdown",
      "source": [
        "This is our input paths validation function"
      ],
      "metadata": {
        "id": "L00h2N7Gy3Sh"
      }
    },
    {
      "cell_type": "code",
      "source": [
        "VALID_IMAGE_EXTENSIONS = ('.jpg', '.jpeg', '.png', '.bmp') #global variable\n",
        "\n",
        "def validate_paths(input_path, logo_path, output_folder):\n",
        "\n",
        "    \"\"\"\n",
        "         Args:\n",
        "            input_path (str): Path to the image or directory of images.\n",
        "            logo_path (str): Path to the logo image to be detected.\n",
        "            output_folder (str): Path to save the output image(s).\n",
        "\n",
        "        Function:\n",
        "            Validates the paths provided for input image(s), logo image, and output folder.\n",
        "\n",
        "        Raises:\n",
        "            FileNotFoundError: If input path, logo path, or output folder does not exist or is not a directory\n",
        "            ValueError: If input file is not a valid image file, input folder does not contain any valid image file,\n",
        "                        or logo file is not a valid image file.\n",
        "    \"\"\"\n",
        "\n",
        "    if not (os.path.exists(input_path) and\n",
        "            (os.path.isfile(input_path) or os.path.isdir(input_path))):\n",
        "        raise ValueError(\"Invalid input path. Please provide a valid image file path or a folder path.\")\n",
        "\n",
        "    if not os.path.exists(output_folder) or not os.path.isdir(output_folder):\n",
        "        raise FileNotFoundError(\"Output folder does not exist or is not a directory.\")\n",
        "\n",
        "    if not os.path.isfile(logo_path) or not logo_path.lower().endswith(VALID_IMAGE_EXTENSIONS):\n",
        "        raise FileNotFoundError(\"Logo file does not exist or is not a valid image file.\")\n",
        "\n",
        "    if os.path.isfile(input_path) and not input_path.lower().endswith(VALID_IMAGE_EXTENSIONS):\n",
        "        raise ValueError(\"Input file must be a valid image file.\")\n",
        "    elif os.path.isdir(input_path):\n",
        "        input_files = [file.lower() for file in os.listdir(input_path)]\n",
        "        if not any(file.endswith(VALID_IMAGE_EXTENSIONS) for file in input_files):\n",
        "            raise ValueError(\"Input folder must contain at least one valid image file.\")\n"
      ],
      "metadata": {
        "id": "RumwvcbVNFJR"
      },
      "execution_count": 71,
      "outputs": []
    },
    {
      "cell_type": "markdown",
      "source": [
        "This is our image loader which handles being given a single image or a folder of images."
      ],
      "metadata": {
        "id": "eOVLQ4IW22aY"
      }
    },
    {
      "cell_type": "code",
      "source": [
        "def load_images(input_path, logo_path):\n",
        "\n",
        "    \"\"\"\n",
        "        Args:\n",
        "            input_path (str): Path to the input file or folder.\n",
        "            logo_path (str): Path to the logo image.\n",
        "        Returns:\n",
        "            tuple: A tuple containing the loaded logo image and a list of paths to input images.\n",
        "        Function:\n",
        "            Loads the input image(s) and the logo image.\n",
        "    \"\"\"\n",
        "    logo = cv2.imread(logo_path)\n",
        "\n",
        "    if os.path.isfile(input_path):\n",
        "        input_paths = [input_path]\n",
        "    elif os.path.isdir(input_path):\n",
        "        input_paths = [os.path.join(input_path, file) for file in os.listdir(input_path)\n",
        "                       if file.lower().endswith(VALID_IMAGE_EXTENSIONS)]\n",
        "\n",
        "    return logo, input_paths"
      ],
      "metadata": {
        "id": "i-YP9FxDNFGZ"
      },
      "execution_count": 72,
      "outputs": []
    },
    {
      "cell_type": "markdown",
      "source": [
        "Here we are trying to find keypoints and descriptors of our image using SIFT"
      ],
      "metadata": {
        "id": "XShoPNus3K7r"
      }
    },
    {
      "cell_type": "code",
      "source": [
        "def find_keypoints_and_descriptors(image, detector):\n",
        "\n",
        "    \"\"\"\n",
        "        Args:\n",
        "            image (numpy array): Input image.\n",
        "            detector: Key point detector object.\n",
        "        Returns:\n",
        "            tuple: A tuple containing the keypoints and descriptors of the input image.\n",
        "        Function:\n",
        "            Finds keypoints and computes descriptors for the input image using the specified detector.\n",
        "    \"\"\"\n",
        "\n",
        "    gray_image = cv2.cvtColor(image, cv2.COLOR_BGR2GRAY)\n",
        "    keypoints, descriptors = detector.detectAndCompute(gray_image, None)\n",
        "    return keypoints, descriptors\n"
      ],
      "metadata": {
        "id": "9km2SKShNE9x"
      },
      "execution_count": 73,
      "outputs": []
    },
    {
      "cell_type": "markdown",
      "source": [
        "Here we match the descriptors between our logo and the image and only return the best matches."
      ],
      "metadata": {
        "id": "PJ6fzhXh5U4u"
      }
    },
    {
      "cell_type": "code",
      "source": [
        "def match_descriptors(des_logo, des_image):\n",
        "\n",
        "    \"\"\"\n",
        "    Args:\n",
        "        des_logo (numpy array): Descriptors of the logo image.\n",
        "        des_image (numpy array): Descriptors of the input image.\n",
        "    Returns:\n",
        "        list: List of good matches between descriptors of the logo and input image.\n",
        "    Function:\n",
        "        Matches descriptors between the logo and input image, filtering out good matches based on distance ratio.\n",
        "    \"\"\"\n",
        "\n",
        "    bf = cv2.BFMatcher()\n",
        "    matches = bf.knnMatch(des_logo, des_image, k=2)\n",
        "    good_matches = [m for m, n in matches if m.distance < 0.75 * n.distance]\n",
        "    return good_matches"
      ],
      "metadata": {
        "id": "U1-ep3xGNE6_"
      },
      "execution_count": 74,
      "outputs": []
    },
    {
      "cell_type": "markdown",
      "source": [
        "We resize our images then apply Gaussian Blur to remove noise and enhance feature extraction.\n",
        "\n",
        "Then, we get the homography points using RANSAC and transform them to project them on the original image and make a mask around the logo. We then take the logo, replace it with white pixels, and use TELEA to reconstruct the missing part of the image."
      ],
      "metadata": {
        "id": "5gzFln8U6F4a"
      }
    },
    {
      "cell_type": "code",
      "source": [
        "def edit_image(image, logo, kp_logo, des_logo, detector):\n",
        "\n",
        "    \"\"\"\n",
        "      Args:\n",
        "          image (numpy.ndarray): Input image.\n",
        "          logo (numpy.ndarray): Logo image.\n",
        "          kp_logo: Keypoints of the logo image.\n",
        "          des_logo: Descriptors of the logo image.\n",
        "          detector: Key point detector object.\n",
        "\n",
        "      Returns:\n",
        "          numpy array: Processed image with logo removed.\n",
        "\n",
        "      Function:\n",
        "          Applies preprocessing, then edits the input image to remove the logo using keypoints, descriptors, and homography transformation,\n",
        "          then uses TELEA method in inpaint to reconstruct the background of the removed area.\n",
        "    \"\"\"\n",
        "    image = cv2.resize(image, (800,600))\n",
        "    image = cv2.GaussianBlur(image, (5,5), 0)\n",
        "    kp_image, des_image = find_keypoints_and_descriptors(image, detector)\n",
        "    good_matches = match_descriptors(des_logo, des_image)\n",
        "\n",
        "    if len(good_matches) > 10:\n",
        "        src_pts = np.float32([kp_logo[m.queryIdx].pt for m in good_matches]).reshape(-1, 1, 2)\n",
        "        dst_pts = np.float32([kp_image[m.trainIdx].pt for m in good_matches]).reshape(-1, 1, 2)\n",
        "        M, mask = cv2.findHomography(src_pts, dst_pts, cv2.RANSAC)\n",
        "\n",
        "        h, w = logo.shape[:2]\n",
        "        logo_corners = np.float32([[0, 0], [0, h - 1], [w - 1, h - 1], [w - 1, 0]]).reshape(-1, 1, 2)\n",
        "        transformed_logo_corners = cv2.perspectiveTransform(logo_corners, M)\n",
        "\n",
        "        mask = np.zeros_like(cv2.cvtColor(image, cv2.COLOR_BGR2GRAY), dtype=np.uint8)\n",
        "        cv2.fillPoly(mask, [np.int32(transformed_logo_corners)], 255)\n",
        "\n",
        "        result_image = cv2.inpaint(image, mask, 3, cv2.INPAINT_TELEA)\n",
        "    else:\n",
        "        result_image = None\n",
        "\n",
        "    return result_image"
      ],
      "metadata": {
        "id": "9cMDvG33NE4M"
      },
      "execution_count": 75,
      "outputs": []
    },
    {
      "cell_type": "markdown",
      "source": [
        "Our main function which manages all the above functions and puts them in place. It also saves the output of the SIFT if anything detected and outputs some facts about the performance of the algorithm."
      ],
      "metadata": {
        "id": "V32RD4UM7z8W"
      }
    },
    {
      "cell_type": "code",
      "source": [
        "def Process_image(input_path, logo_path, output_folder):\n",
        "\n",
        "    \"\"\"\n",
        "        Args:\n",
        "            input_path (str): Path to the input image(s) or directory containing input images.\n",
        "            logo_path (str): Path to the logo image.\n",
        "            output_folder (str): Path to save the processed output image(s).\n",
        "\n",
        "        Function:\n",
        "            This is our main function. It orchestrates the processing of input images to remove the logo,\n",
        "            replace background and save the output.\n",
        "\n",
        "        Steps:\n",
        "            1. Validate Paths: Calls the validate_paths function to ensure the paths are valid.\n",
        "            2. Load Images: Loads the logo image and input image(s) using the load_images function.\n",
        "            3. Extract Features: Computes keypoints and descriptors for the logo image using the SIFT detector.\n",
        "            4. Process Images: Iterates over each input image, removes the logo using the edit_image function, and saves the result.\n",
        "\n",
        "        Output:\n",
        "            The function generates processed output images with the logo removed. Each output image is saved in the specified output folder\n",
        "            and follows the same name, format and dimensions as the input images.\n",
        "    \"\"\"\n",
        "\n",
        "    validate_paths(input_path, logo_path, output_folder)\n",
        "    logo, input_paths = load_images(input_path, logo_path)\n",
        "    logo_gray = cv2.cvtColor(logo, cv2.COLOR_BGR2GRAY)\n",
        "    sift = cv2.SIFT_create()\n",
        "    kp_logo, des_logo = sift.detectAndCompute(logo_gray, None)\n",
        "\n",
        "    no_label_images = []\n",
        "    total_images = 0\n",
        "    no_label_count = 0\n",
        "\n",
        "    for input_image_path in input_paths:\n",
        "        total_images += 1\n",
        "        image_name = os.path.basename(input_image_path)\n",
        "        image = cv2.imread(input_image_path)\n",
        "        result_image = edit_image(image, logo, kp_logo, des_logo, sift)\n",
        "        if result_image is not None:\n",
        "            output_image_path = os.path.join(output_folder, image_name)\n",
        "            cv2.imwrite(output_image_path, result_image)\n",
        "        else:\n",
        "            no_label_count += 1\n",
        "            no_label_images.append(image_name)\n",
        "\n",
        "    percentage_label = ( (total_images - no_label_count) / total_images) * 100\n",
        "    print(f\"Percentage of images with label detected: {percentage_label:.2f}%\")\n",
        "    print(f\"Number of images with no label detected: {no_label_count}\")\n",
        "\n",
        "    if no_label_count > 0:\n",
        "        print(\"Images with no label detected:\")\n",
        "        print(\"\\n\".join(no_label_images))\n"
      ],
      "metadata": {
        "id": "NcExX866NE1z"
      },
      "execution_count": 76,
      "outputs": []
    },
    {
      "cell_type": "markdown",
      "source": [
        "Test Run"
      ],
      "metadata": {
        "id": "bhe2A4cr8OGC"
      }
    },
    {
      "cell_type": "code",
      "source": [
        "input_path = 'Insert your image or folder'\n",
        "logo_path = 'insert the path to your logo image'\n",
        "output_folder = 'Insert the directory you want to save your output to'\n",
        "\n",
        "Process_image(input_path, logo_path, output_folder)"
      ],
      "metadata": {
        "colab": {
          "base_uri": "https://localhost:8080/"
        },
        "id": "QZPv7C99NEza",
        "outputId": "8bda1491-b12e-4118-e7cd-349a91ea2092"
      },
      "execution_count": 79,
      "outputs": [
        {
          "output_type": "stream",
          "name": "stdout",
          "text": [
            "Percentage of images with label detected: 100.00%\n",
            "Number of images with no label detected: 0\n"
          ]
        }
      ]
    },
    {
      "cell_type": "markdown",
      "source": [
        "We made some error analysis as we got 93% accuracy on our first try. It appeared that images which had not been detected had higher light intensity than the other ones. Like image 27 and 42. Upon researching, we found that resizing and Gaussian Blur can help reduce the noise and enhance feature extraction.\n",
        "\n",
        "In practice, we found that resizing alone got our score to jump to 100%. However, we included the Gaussian Blur step as we know that with our sample size, the score is not reliable and we better enhance preprocessing for images that are out of our test set."
      ],
      "metadata": {
        "id": "yz26KFhU8VPp"
      }
    },
    {
      "cell_type": "code",
      "execution_count": 34,
      "metadata": {
        "id": "MWhB7OOKNBEA"
      },
      "outputs": [],
      "source": []
    },
    {
      "cell_type": "code",
      "source": [],
      "metadata": {
        "id": "BO02aJDLFKkz"
      },
      "execution_count": 78,
      "outputs": []
    },
    {
      "cell_type": "code",
      "source": [],
      "metadata": {
        "id": "JW7xTqNfFMzW"
      },
      "execution_count": null,
      "outputs": []
    }
  ]
}